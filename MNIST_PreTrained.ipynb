{
  "nbformat": 4,
  "nbformat_minor": 0,
  "metadata": {
    "colab": {
      "provenance": [],
      "toc_visible": true
    },
    "kernelspec": {
      "name": "python3",
      "display_name": "Python 3"
    },
    "language_info": {
      "name": "python"
    }
  },
  "cells": [
    {
      "cell_type": "markdown",
      "source": [
        "#Imports"
      ],
      "metadata": {
        "id": "3Y-yeWJE58r7"
      }
    },
    {
      "cell_type": "code",
      "execution_count": 1,
      "metadata": {
        "id": "y55eHVTD4eE5"
      },
      "outputs": [],
      "source": [
        "from tensorflow.keras.datasets import mnist\n",
        "import matplotlib.pyplot as plt\n",
        "from tensorflow.keras.utils import to_categorical\n",
        "import numpy as np\n",
        "from tensorflow.keras.applications.resnet50 import ResNet50\n",
        "from tensorflow.keras.models import Sequential\n",
        "from tensorflow.keras.layers import Dense"
      ]
    },
    {
      "cell_type": "markdown",
      "source": [
        "#Dataset Preparation"
      ],
      "metadata": {
        "id": "v7MgpXQk5_mP"
      }
    },
    {
      "cell_type": "code",
      "source": [
        "(X_train, y_train), (X_test, y_test) = mnist.load_data()"
      ],
      "metadata": {
        "id": "mXV8P6Q14hhz",
        "colab": {
          "base_uri": "https://localhost:8080/"
        },
        "outputId": "ddd3527f-3ba8-44f6-dede-ee3bb3d8ae14"
      },
      "execution_count": 2,
      "outputs": [
        {
          "output_type": "stream",
          "name": "stdout",
          "text": [
            "Downloading data from https://storage.googleapis.com/tensorflow/tf-keras-datasets/mnist.npz\n",
            "11490434/11490434 [==============================] - 0s 0us/step\n"
          ]
        }
      ]
    },
    {
      "cell_type": "code",
      "source": [
        "X_train.shape, X_test.shape"
      ],
      "metadata": {
        "colab": {
          "base_uri": "https://localhost:8080/"
        },
        "id": "vCvB-Yeh5TGn",
        "outputId": "4717561b-5b76-472a-c9bf-2b396ebae632"
      },
      "execution_count": 3,
      "outputs": [
        {
          "output_type": "execute_result",
          "data": {
            "text/plain": [
              "((60000, 28, 28), (10000, 28, 28))"
            ]
          },
          "metadata": {},
          "execution_count": 3
        }
      ]
    },
    {
      "cell_type": "code",
      "source": [
        "X_train = X_train.reshape((X_train.shape[0], 28, 28))\n",
        "X_test = X_test.reshape((X_test.shape[0], 28, 28))\n",
        "\n",
        "X_train = X_train.astype('float32')\n",
        "X_test = X_test.astype('float32')\n",
        "\n",
        "X_train = np.stack((X_train,)*3, axis=-1)\n",
        "X_test = np.stack((X_test,)*3, axis=-1)\n",
        "\n",
        "y_train = to_categorical(y_train)\n",
        "y_test = to_categorical(y_test)"
      ],
      "metadata": {
        "id": "Op-zt4GP5UeH"
      },
      "execution_count": 4,
      "outputs": []
    },
    {
      "cell_type": "code",
      "source": [
        "X_train.shape, X_test.shape"
      ],
      "metadata": {
        "colab": {
          "base_uri": "https://localhost:8080/"
        },
        "id": "O89e9mmWd_Zc",
        "outputId": "44025efd-fb78-45b6-f713-dc842cf13270"
      },
      "execution_count": 5,
      "outputs": [
        {
          "output_type": "execute_result",
          "data": {
            "text/plain": [
              "((60000, 28, 28, 3), (10000, 28, 28, 3))"
            ]
          },
          "metadata": {},
          "execution_count": 5
        }
      ]
    },
    {
      "cell_type": "markdown",
      "source": [
        "#Model Architecture and Training"
      ],
      "metadata": {
        "id": "OKhlIm6X6EIh"
      }
    },
    {
      "cell_type": "code",
      "source": [
        "model = Sequential()\n",
        "model.add(ResNet50(include_top=False, pooling='avg', weights='imagenet'))\n",
        "model.add(Dense(512, activation='relu'))\n",
        "model.add(Dense(10, activation='softmax'))\n",
        "model.layers[0].trainable=False\n",
        "model.summary()"
      ],
      "metadata": {
        "colab": {
          "base_uri": "https://localhost:8080/"
        },
        "id": "_c2W1XGUeXM7",
        "outputId": "e3b6e8ac-d440-43df-af43-1399a6f915ea"
      },
      "execution_count": 6,
      "outputs": [
        {
          "output_type": "stream",
          "name": "stdout",
          "text": [
            "Downloading data from https://storage.googleapis.com/tensorflow/keras-applications/resnet/resnet50_weights_tf_dim_ordering_tf_kernels_notop.h5\n",
            "94765736/94765736 [==============================] - 1s 0us/step\n",
            "Model: \"sequential\"\n",
            "_________________________________________________________________\n",
            " Layer (type)                Output Shape              Param #   \n",
            "=================================================================\n",
            " resnet50 (Functional)       (None, 2048)              23587712  \n",
            "                                                                 \n",
            " dense (Dense)               (None, 512)               1049088   \n",
            "                                                                 \n",
            " dense_1 (Dense)             (None, 10)                5130      \n",
            "                                                                 \n",
            "=================================================================\n",
            "Total params: 24641930 (94.00 MB)\n",
            "Trainable params: 1054218 (4.02 MB)\n",
            "Non-trainable params: 23587712 (89.98 MB)\n",
            "_________________________________________________________________\n"
          ]
        }
      ]
    },
    {
      "cell_type": "code",
      "source": [
        "model.compile(optimizer='Adam', loss='categorical_crossentropy', metrics=['accuracy'])"
      ],
      "metadata": {
        "id": "dNlylUAeeYt7"
      },
      "execution_count": 7,
      "outputs": []
    },
    {
      "cell_type": "code",
      "source": [
        "model.fit(X_train,y_train, epochs=10, validation_data=(X_test,y_test))"
      ],
      "metadata": {
        "colab": {
          "base_uri": "https://localhost:8080/"
        },
        "id": "jJqAsrQiefB7",
        "outputId": "cfef40a0-8824-40a7-872f-c601da9c02c0"
      },
      "execution_count": 8,
      "outputs": [
        {
          "output_type": "stream",
          "name": "stdout",
          "text": [
            "Epoch 1/10\n",
            "1875/1875 [==============================] - 336s 173ms/step - loss: 0.3390 - accuracy: 0.8970 - val_loss: 0.3165 - val_accuracy: 0.8932\n",
            "Epoch 2/10\n",
            "1875/1875 [==============================] - 316s 169ms/step - loss: 0.2022 - accuracy: 0.9344 - val_loss: 0.1949 - val_accuracy: 0.9362\n",
            "Epoch 3/10\n",
            "1875/1875 [==============================] - 315s 168ms/step - loss: 0.1708 - accuracy: 0.9432 - val_loss: 0.1859 - val_accuracy: 0.9376\n",
            "Epoch 4/10\n",
            "1875/1875 [==============================] - 314s 168ms/step - loss: 0.1535 - accuracy: 0.9485 - val_loss: 0.1688 - val_accuracy: 0.9469\n",
            "Epoch 5/10\n",
            "1875/1875 [==============================] - 314s 168ms/step - loss: 0.1371 - accuracy: 0.9544 - val_loss: 0.2186 - val_accuracy: 0.9320\n",
            "Epoch 6/10\n",
            "1875/1875 [==============================] - 315s 168ms/step - loss: 0.1273 - accuracy: 0.9579 - val_loss: 0.1391 - val_accuracy: 0.9571\n",
            "Epoch 7/10\n",
            "1875/1875 [==============================] - 316s 169ms/step - loss: 0.1164 - accuracy: 0.9599 - val_loss: 0.1561 - val_accuracy: 0.9546\n",
            "Epoch 8/10\n",
            "1875/1875 [==============================] - 314s 168ms/step - loss: 0.1082 - accuracy: 0.9634 - val_loss: 0.1710 - val_accuracy: 0.9509\n",
            "Epoch 9/10\n",
            "1875/1875 [==============================] - 314s 168ms/step - loss: 0.1021 - accuracy: 0.9661 - val_loss: 0.1489 - val_accuracy: 0.9546\n",
            "Epoch 10/10\n",
            "1875/1875 [==============================] - 315s 168ms/step - loss: 0.0938 - accuracy: 0.9677 - val_loss: 0.1521 - val_accuracy: 0.9569\n"
          ]
        },
        {
          "output_type": "execute_result",
          "data": {
            "text/plain": [
              "<keras.src.callbacks.History at 0x792a916d2320>"
            ]
          },
          "metadata": {},
          "execution_count": 8
        }
      ]
    },
    {
      "cell_type": "markdown",
      "source": [
        "#Model Evaluation"
      ],
      "metadata": {
        "id": "3erkxunF6PqF"
      }
    },
    {
      "cell_type": "code",
      "source": [
        "print(model.evaluate(X_train,y_train))"
      ],
      "metadata": {
        "id": "e5vM-5_yhoxO",
        "colab": {
          "base_uri": "https://localhost:8080/"
        },
        "outputId": "01d101b3-0c7e-4ca2-887b-40cf9e9a46bb"
      },
      "execution_count": 9,
      "outputs": [
        {
          "output_type": "stream",
          "name": "stdout",
          "text": [
            "1875/1875 [==============================] - 257s 137ms/step - loss: 0.0761 - accuracy: 0.9737\n",
            "[0.07614518702030182, 0.9737499952316284]\n"
          ]
        }
      ]
    },
    {
      "cell_type": "code",
      "source": [
        "print(model.evaluate(X_test,y_test))"
      ],
      "metadata": {
        "id": "qoKcOYk-ObcE",
        "colab": {
          "base_uri": "https://localhost:8080/"
        },
        "outputId": "ec430af8-5aa3-4265-95f4-c64689270ac1"
      },
      "execution_count": 10,
      "outputs": [
        {
          "output_type": "stream",
          "name": "stdout",
          "text": [
            "313/313 [==============================] - 42s 135ms/step - loss: 0.1521 - accuracy: 0.9569\n",
            "[0.15205034613609314, 0.9569000005722046]\n"
          ]
        }
      ]
    },
    {
      "cell_type": "code",
      "source": [
        "from sklearn.metrics import accuracy_score,precision_score,recall_score,f1_score\n",
        "print(accuracy_score(y_test,y_pred))\n",
        "print(precision_score(y_test,y_pred,average='micro'))\n",
        "print(recall_score(y_test,y_pred,average='micro'))\n",
        "print(f1_score(y_test,y_pred,average='micro'))"
      ],
      "metadata": {
        "id": "UYu4Fs-76UWk"
      },
      "execution_count": null,
      "outputs": []
    },
    {
      "cell_type": "markdown",
      "source": [
        "#Overfit/Underfit Analysis"
      ],
      "metadata": {
        "id": "LQM3G80P-L7k"
      }
    },
    {
      "cell_type": "code",
      "source": [
        "accuracy = model.history['accuracy']\n",
        "val_accuracy = Model.history['val_accuracy']\n",
        "loss = Model.history['loss']\n",
        "val_loss = Model.history['val_loss']\n",
        "epochs = range(1, len(accuracy) + 1)\n",
        "plt.figure(figsize=(12, 4))\n",
        "\n",
        "\n",
        "plt.subplot(1, 2, 1)\n",
        "plt.plot(epochs, accuracy, 'b', label='Training accuracy')\n",
        "plt.plot(epochs, val_accuracy, 'r', label='Validation accuracy')\n",
        "plt.title('Training and validation accuracy')\n",
        "plt.xlabel('Epochs')\n",
        "plt.ylabel('Accuracy')\n",
        "plt.legend()\n",
        "\n",
        "\n",
        "plt.subplot(1, 2, 2)\n",
        "plt.plot(epochs, loss, 'b', label='Training loss')\n",
        "plt.plot(epochs, val_loss, 'r', label='Validation loss')\n",
        "plt.title('Training and validation loss')\n",
        "plt.xlabel('Epochs')\n",
        "plt.ylabel('Loss')\n",
        "plt.legend()\n",
        "plt.show()"
      ],
      "metadata": {
        "id": "XysNjiA_-IUJ"
      },
      "execution_count": null,
      "outputs": []
    },
    {
      "cell_type": "code",
      "source": [],
      "metadata": {
        "id": "26iuZteBoDI4"
      },
      "execution_count": null,
      "outputs": []
    }
  ]
}